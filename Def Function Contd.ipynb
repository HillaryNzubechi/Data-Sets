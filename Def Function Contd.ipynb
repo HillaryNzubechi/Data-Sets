{
 "cells": [
  {
   "cell_type": "markdown",
   "id": "a36620a2",
   "metadata": {},
   "source": [
    "### TAXI FARE"
   ]
  },
  {
   "cell_type": "code",
   "execution_count": 21,
   "id": "21fcd76a",
   "metadata": {},
   "outputs": [],
   "source": [
    "def Calc_Total_fare(distance_in_Km):\n",
    "    # The Base_fare and fare are payments made in dollars ($)\n",
    "    # The unit distance in meters as given for intervals = distance in meters/1000.\n",
    "    Base_fare = 4\n",
    "    fare = ((0.25*distance_in_Km)/0.14)\n",
    "    Total_fare = Base_fare + fare\n",
    "    print(f\"You covered {distance_in_Km}Km and your fare is ${round(Total_fare,1)}\")"
   ]
  },
  {
   "cell_type": "code",
   "execution_count": 20,
   "id": "36896543",
   "metadata": {},
   "outputs": [
    {
     "name": "stdout",
     "output_type": "stream",
     "text": [
      "You covered 5Km and your fare is $12.9\n"
     ]
    }
   ],
   "source": [
    "Calc_Total_fare(5)"
   ]
  },
  {
   "cell_type": "markdown",
   "id": "a3f30cc6",
   "metadata": {},
   "source": [
    "### Vowel count"
   ]
  },
  {
   "cell_type": "code",
   "execution_count": 41,
   "id": "62fce864",
   "metadata": {},
   "outputs": [],
   "source": [
    "def count_vowels(sentence):\n",
    "    vowels = \"AaEeIiOoUu\"\n",
    "    vowel_count = 0\n",
    "    for letters in sentence:\n",
    "        if letter in vowels:\n",
    "            vowel_count += 1\n",
    "        else:\n",
    "            break"
   ]
  },
  {
   "cell_type": "code",
   "execution_count": 42,
   "id": "5c277535",
   "metadata": {},
   "outputs": [
    {
     "ename": "SyntaxError",
     "evalue": "invalid syntax. Perhaps you forgot a comma? (215409807.py, line 1)",
     "output_type": "error",
     "traceback": [
      "\u001b[1;36m  Cell \u001b[1;32mIn[42], line 1\u001b[1;36m\u001b[0m\n\u001b[1;33m    count_vowels(Obi a boy)\u001b[0m\n\u001b[1;37m                 ^\u001b[0m\n\u001b[1;31mSyntaxError\u001b[0m\u001b[1;31m:\u001b[0m invalid syntax. Perhaps you forgot a comma?\n"
     ]
    }
   ],
   "source": [
    "count_vowels(Obi is a boy)\n",
    "\n",
    "#Im having issues here sir, thanks."
   ]
  },
  {
   "cell_type": "code",
   "execution_count": null,
   "id": "4e3fb047",
   "metadata": {},
   "outputs": [],
   "source": []
  },
  {
   "cell_type": "code",
   "execution_count": null,
   "id": "4b52803d",
   "metadata": {},
   "outputs": [],
   "source": []
  }
 ],
 "metadata": {
  "kernelspec": {
   "display_name": "Python 3 (ipykernel)",
   "language": "python",
   "name": "python3"
  },
  "language_info": {
   "codemirror_mode": {
    "name": "ipython",
    "version": 3
   },
   "file_extension": ".py",
   "mimetype": "text/x-python",
   "name": "python",
   "nbconvert_exporter": "python",
   "pygments_lexer": "ipython3",
   "version": "3.10.9"
  }
 },
 "nbformat": 4,
 "nbformat_minor": 5
}
