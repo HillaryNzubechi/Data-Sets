{
 "cells": [
  {
   "cell_type": "code",
   "execution_count": 6,
   "id": "cad3b91e",
   "metadata": {},
   "outputs": [],
   "source": [
    "def toSolveHypothenus(sideA,sideB):\n",
    "  sideC = ((sideA**2) + (sideB**2))**0.5\n",
    "#sideC is the Hypothenus\n",
    "  print(f\"The length of the Hypothenus is {sideC}\")"
   ]
  },
  {
   "cell_type": "code",
   "execution_count": 7,
   "id": "9a862908",
   "metadata": {},
   "outputs": [
    {
     "name": "stdout",
     "output_type": "stream",
     "text": [
      "The length of the Hypothenus is 5.0\n"
     ]
    }
   ],
   "source": [
    "toSolveHypothenus(3,4)"
   ]
  },
  {
   "cell_type": "code",
   "execution_count": null,
   "id": "78c8b727",
   "metadata": {},
   "outputs": [],
   "source": []
  }
 ],
 "metadata": {
  "kernelspec": {
   "display_name": "Python 3 (ipykernel)",
   "language": "python",
   "name": "python3"
  },
  "language_info": {
   "codemirror_mode": {
    "name": "ipython",
    "version": 3
   },
   "file_extension": ".py",
   "mimetype": "text/x-python",
   "name": "python",
   "nbconvert_exporter": "python",
   "pygments_lexer": "ipython3",
   "version": "3.10.9"
  }
 },
 "nbformat": 4,
 "nbformat_minor": 5
}
