{
 "cells": [
  {
   "cell_type": "code",
   "execution_count": 95,
   "id": "4b2b9b56",
   "metadata": {},
   "outputs": [
    {
     "name": "stdout",
     "output_type": "stream",
     "text": [
      "Enter a year: 2020\n",
      "leap year\n"
     ]
    }
   ],
   "source": [
    "year=int(input(\"Enter a year: \"))\n",
    "if year%4 == 0:\n",
    "    print(\"leap year\")\n",
    "elif year%100 != 0:\n",
    "    print(\"not a leap_year\")\n",
    "elif year%400 == 0:\n",
    "    print(\"leap year\")"
   ]
  },
  {
   "cell_type": "code",
   "execution_count": 85,
   "id": "6fdceaae",
   "metadata": {},
   "outputs": [
    {
     "name": "stdout",
     "output_type": "stream",
     "text": [
      "Enter a number: 200\n",
      "Divisors of 200 are:\n",
      "1\n",
      "2\n",
      "4\n",
      "5\n",
      "8\n",
      "10\n",
      "20\n",
      "25\n",
      "40\n",
      "50\n",
      "100\n",
      "200\n"
     ]
    }
   ],
   "source": [
    "num = int(input(\"Enter a number: \"))\n",
    "divisors = []\n",
    "for i in range(1, num + 1):\n",
    "    if num % i == 0:\n",
    "        divisors.append(i)\n",
    "print(\"Divisors of\", num, \"are:\")\n",
    "for divisor in divisors:\n",
    "    print(divisor)"
   ]
  },
  {
   "cell_type": "code",
   "execution_count": 86,
   "id": "140ca541",
   "metadata": {},
   "outputs": [
    {
     "name": "stdout",
     "output_type": "stream",
     "text": [
      "Enter number of items: 44\n",
      "$ 440.0\n"
     ]
    }
   ],
   "source": [
    "number_of_items=float(input(\"Enter number of items: \"))\n",
    "if number_of_items<10:\n",
    "    price = 12*number_of_items\n",
    "elif number_of_items<100:\n",
    "    price = 10*number_of_items\n",
    "else:\n",
    "    price = 7*number_of_items\n",
    "print(\"$\", price)"
   ]
  },
  {
   "cell_type": "code",
   "execution_count": 88,
   "id": "3a0447da",
   "metadata": {},
   "outputs": [
    {
     "name": "stdout",
     "output_type": "stream",
     "text": [
      "Enter the first number: 100\n",
      "Enter the second number: 102\n",
      "Not close\n"
     ]
    }
   ],
   "source": [
    "num1 = float(input(\"Enter the first number: \"))\n",
    "num2 = float(input(\"Enter the second number: \"))\n",
    "\n",
    "if abs(num1 - num2) <= 0.001:\n",
    "    print(\"Close\")\n",
    "else:\n",
    "    print(\"Not close\")\n"
   ]
  },
  {
   "cell_type": "code",
   "execution_count": 94,
   "id": "b1069885",
   "metadata": {},
   "outputs": [
    {
     "name": "stdout",
     "output_type": "stream",
     "text": [
      "Enter_number_of_sides: 13\n",
      "invalid entry\n"
     ]
    }
   ],
   "source": [
    "number_of_sides=int(input(\"Enter_number_of_sides: \"))\n",
    "if number_of_sides == 3:\n",
    "    print(\"triangle\")\n",
    "elif number_of_sides == 4:\n",
    "    print(\"square\")\n",
    "elif number_of_sides == 5:\n",
    "    print(\"pentagon\")\n",
    "elif number_of_sides == 6:\n",
    "    print(\"hexagon\")\n",
    "elif number_of_sides == 7:\n",
    "    print(\"heptagon\")\n",
    "elif number_of_sides == 8:\n",
    "    print(\"octagon\")\n",
    "elif number_of_sides == 9:\n",
    "    print(\"nonagon\")\n",
    "elif number_of_sides == 10:\n",
    "    print(\"decagon\")\n",
    "else:\n",
    "    print(\"invalid entry\")"
   ]
  },
  {
   "cell_type": "code",
   "execution_count": 118,
   "id": "d7cf3dcf",
   "metadata": {},
   "outputs": [
    {
     "name": "stdout",
     "output_type": "stream",
     "text": [
      "Enter_decibel_level: 200\n",
      "High noise\n"
     ]
    }
   ],
   "source": [
    "decibel_level=float(input(\"Enter_decibel_level: \"))\n",
    "if decibel_level > 0 and decibel_level < 40:\n",
    "    print(\"very_quite_room\")\n",
    "elif decibel_level == 40:\n",
    "    print(\"quite room\")\n",
    "elif decibel_level > 40 and decibel_level <70:\n",
    "    print(\"quite clock\")\n",
    "elif decibel_level == 70:\n",
    "    print(\"alarm clock\")\n",
    "elif decibel_level > 70 and decibel_level <106:\n",
    "    print(\"alarm lawnmower\")\n",
    "elif decibel_level == 106:\n",
    "    print(\"Gas lawnmower\")\n",
    "elif decibel_level > 106 and decibel_level <130:\n",
    "    print(\"gas noise\")\n",
    "elif decibel_level == 130:\n",
    "    print(\"Noise\")\n",
    "elif decibel_level > 130:\n",
    "    print(\"High noise\")"
   ]
  },
  {
   "cell_type": "code",
   "execution_count": 122,
   "id": "3af09852",
   "metadata": {},
   "outputs": [
    {
     "name": "stdout",
     "output_type": "stream",
     "text": [
      "Enter length of side1: 12\n",
      "Enter length of side2: 13\n",
      "Enter length of side3: 14\n",
      "scalene\n"
     ]
    }
   ],
   "source": [
    "side1=float(input(\"Enter length of side1: \"))\n",
    "side2=float(input(\"Enter length of side2: \"))\n",
    "side3=float(input(\"Enter length of side3: \"))\n",
    "if side1 == side2 == side3 :\n",
    "    print(\"Equilateral\")\n",
    "elif side1 == side2 or side1 == side3 or side2 == side3:\n",
    "    print(\"isosceles\")\n",
    "else:\n",
    "    print(\"scalene\")"
   ]
  },
  {
   "cell_type": "code",
   "execution_count": null,
   "id": "99a55c65",
   "metadata": {},
   "outputs": [],
   "source": []
  }
 ],
 "metadata": {
  "kernelspec": {
   "display_name": "Python 3 (ipykernel)",
   "language": "python",
   "name": "python3"
  },
  "language_info": {
   "codemirror_mode": {
    "name": "ipython",
    "version": 3
   },
   "file_extension": ".py",
   "mimetype": "text/x-python",
   "name": "python",
   "nbconvert_exporter": "python",
   "pygments_lexer": "ipython3",
   "version": "3.10.9"
  }
 },
 "nbformat": 4,
 "nbformat_minor": 5
}
